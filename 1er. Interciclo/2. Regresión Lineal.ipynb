{
 "cells": [
  {
   "cell_type": "markdown",
   "metadata": {},
   "source": [
    "# Regresión Lineal con formulas"
   ]
  },
  {
   "cell_type": "code",
   "execution_count": 3,
   "metadata": {},
   "outputs": [
    {
     "data": {
      "image/png": "[encoded data removed]",
      "text/plain": [
       "<Figure size 432x288 with 1 Axes>"
      ]
     },
     "metadata": {
      "needs_background": "light"
     },
     "output_type": "display_data"
    }
   ],
   "source": [
    "def generar_datos(): \n",
    "    x = np.random.random(20)*10 \n",
    "    y = np.random.random(20)*10 \n",
    "    #return x,y\n",
    "    return x.reshape((20,1)), y.reshape((20,1)) \n",
    "\n",
    "import matplotlib.pyplot as plt\n",
    "import numpy as np\n",
    "import math as mt\n",
    "# X=np.array([30,28,32,25,25,25,22,24,35,40])\n",
    "#Y=np.array([25,30,27,40,42,40,50,45,30,25])\n",
    "X=np.array(generar_datos()[0])\n",
    "Y=np.array(generar_datos()[1])\n",
    "plt.plot(X,Y,'x')\n",
    "plt.axhline(y=0,color=\"red\")\n",
    "plt.axvline(x=0,color=\"red\")\n",
    "plt.grid(True)\n",
    "plt.show()\n",
    "ex=sum(X)\n",
    "ey=sum(Y)\n",
    "exy=sum(X*Y)\n",
    "exx=sum(X*X)\n",
    "lon=len(X)"
   ]
  },
  {
   "cell_type": "code",
   "execution_count": 4,
   "metadata": {},
   "outputs": [],
   "source": [
    "#print ('{4}{0:2}{4} {4}{1:3}{4} {4}{2:4}{4} {4}{3:4}{4}'.format(\"---\",\"---\", \"-----\",\"-----\",'-'))\n",
    "#print ('{4}{0:2}{4} {4}{1:3}{4} {4}{2:4}{4} {4}{3:4}{4}'.format(\" X \",\" Y \", \" X*Y \",\" X^2 \",'|'))\n",
    "#print ('{4}{0:2}{4} {4}{1:3}{4} {4}{2:4}{4} {4}{3:4}{4}'.format(\"---\",\"---\", \"-----\",\"-----\",'-'))\n",
    "#for i in range(lon):\n",
    "#    print('{4}{0:3d}{4} {4}{1:3d}{4} {4}{2:5d}{4} {4}{3:5d}{4}'.format(X[i],Y[i],X[i]*Y[i],X[i]*X[i],'|'))\n",
    "#\n",
    "#print ('{4}{0:2}{4} {4}{1:3}{4} {4}{2:4}{4} {4}{3:4}{4}'.format(\"---\",\"---\", \"-----\",\"-----\",'-'))\n",
    "#print ('{4}{0:3d}{4} {4}{1:3d}{4} {4}{2:5d}{4} {4}{3:5d}{4}'.format(ex,ey,exy,exx,'|'))\n",
    "#print ('{4}{0:2}{4} {4}{1:3}{4} {4}{2:4}{4} {4}{3:4}{4}'.format(\"---\",\"---\", \"-----\",\"-----\",'-'))"
   ]
  },
  {
   "cell_type": "code",
   "execution_count": 8,
   "metadata": {},
   "outputs": [
    {
     "name": "stdout",
     "output_type": "stream",
     "text": [
      "y = 0.2484x + 4.5237\n"
     ]
    }
   ],
   "source": [
    "m=(lon*exy-ex*ey)/(lon*exx-mt.pow(abs(ex),2))\n",
    "b=(ey*exx-ex*exy)/(lon*exx-mt.pow(abs(ex),2))\n",
    "ecua=\"\"\n",
    "m=round(m[0],4)\n",
    "b=round(b[0],4)\n",
    "if (b < 0):\n",
    "    ecua='y = {}x {}'\n",
    "else:\n",
    "    ecua='y = {}x + {}'\n",
    "print(ecua.format(m,b))"
   ]
  },
  {
   "cell_type": "code",
   "execution_count": 12,
   "metadata": {},
   "outputs": [
    {
     "data": {
      "image/png": "[encoded data removed]",
      "text/plain": [
       "<Figure size 432x288 with 1 Axes>"
      ]
     },
     "metadata": {
      "needs_background": "light"
     },
     "output_type": "display_data"
    }
   ],
   "source": [
    "fu=lambda x: m*x+b\n",
    "li=np.arange(min(X)-5.0,max(X)+5.0,0.5)\n",
    "plt.plot(X,Y,'x')\n",
    "plt.axhline(y=0,color=\"red\")\n",
    "plt.axvline(x=0,color=\"red\")\n",
    "plt.plot(li,fu(li))\n",
    "plt.grid(True)\n",
    "plt.show()\n",
    "# var=round(sum((Y-fu(X))*(Y-fu(X)))/(lon-2),2)\n",
    "# print(var)"
   ]
  },
  {
   "cell_type": "code",
   "execution_count": 133,
   "metadata": {},
   "outputs": [
    {
     "name": "stdout",
     "output_type": "stream",
     "text": [
      "|---| |---| |-----| |-----| |--------| |--------|\n",
      "| X | | Y | | X*Y | | X^2 | | NY     | | e      |\n",
      "|---| |---| |-----| |-----| |--------| |--------|\n",
      "| 30| | 25| |  750| |  900| |   33.50| |   -8.50|\n",
      "| 28| | 30| |  840| |  784| |   36.21| |   -6.21|\n",
      "| 32| | 27| |  864| | 1024| |   30.80| |   -3.80|\n",
      "| 25| | 40| | 1000| |  625| |   40.27| |   -0.27|\n",
      "| 25| | 42| | 1050| |  625| |   40.27| |    1.73|\n",
      "| 25| | 40| | 1000| |  625| |   40.27| |   -0.27|\n",
      "| 22| | 50| | 1100| |  484| |   44.33| |    5.67|\n",
      "| 24| | 45| | 1080| |  576| |   41.63| |    3.37|\n",
      "| 35| | 30| | 1050| | 1225| |   26.74| |    3.26|\n",
      "| 40| | 25| | 1000| | 1600| |   19.97| |    5.03|\n",
      "|---| |---| |-----| |-----| |--------| |--------|\n",
      "|286| |354| | 9734| | 8468| |  353.99| |    0.01|\n",
      "|---| |---| |-----| |-----| |--------| |--------|\n"
     ]
    }
   ],
   "source": [
    "print ('{4}{0:2}{4} {4}{1:3}{4} {4}{2:4}{4} {4}{3:4}{4} {4}{5:8}{4} {4}{6:8}{4}'.format(\"---\",\"---\", \"-----\",\"-----\",\"|\",\"--------\",'--------'))\n",
    "print ('{4}{0:2}{4} {4}{1:3}{4} {4}{2:4}{4} {4}{3:4}{4} {4}{5:8}{4} {4}{6:8}{4}'.format(\" X \",\" Y \", \" X*Y \",\" X^2 \",\"|\",\" NY \",\" e \"))\n",
    "print ('{4}{0:2}{4} {4}{1:3}{4} {4}{2:4}{4} {4}{3:4}{4} {4}{5:8}{4} {4}{6:8}{4}'.format(\"---\",\"---\", \"-----\",\"-----\",\"|\",\"--------\",'--------'))\n",
    "for i in range(lon):\n",
    "    print('{4}{0:3d}{4} {4}{1:3d}{4} {4}{2:5d}{4} {4}{3:5d}{4} {4}{5:8.2f}{4} {4}{6:8.2f}{4}'.format(X[i],Y[i],X[i]*Y[i],X[i]*X[i],'|',fu(X[i]),Y[i]-fu(X[i])))\n",
    "print ('{4}{0:2}{4} {4}{1:3}{4} {4}{2:4}{4} {4}{3:4}{4} {4}{5:8}{4} {4}{6:8}{4}'.format(\"---\",\"---\", \"-----\",\"-----\",\"|\",\"--------\",'--------'))\n",
    "print ('{4}{0:3d}{4} {4}{1:3d}{4} {4}{2:5d}{4} {4}{3:5d}{4} {4}{5:8.2f}{4} {4}{6:8.2f}{4}'.format(ex,ey,exy,exx,'|',sum(fu(X)),sum(Y-fu(X))))\n",
    "print ('{4}{0:2}{4} {4}{1:3}{4} {4}{2:4}{4} {4}{3:4}{4} {4}{5:8}{4} {4}{6:8}{4}'.format(\"---\",\"---\", \"-----\",\"-----\",\"|\",\"--------\",'--------'))"
   ]
  },
  {
   "cell_type": "code",
   "execution_count": 28,
   "metadata": {},
   "outputs": [
    {
     "name": "stdout",
     "output_type": "stream",
     "text": [
      "Ingrese el valor a evaluar: 50\n",
      "5.877640174331328\n"
     ]
    }
   ],
   "source": [
    "num=float(input(\"Ingrese el valor a evaluar: \"))\n",
    "res=fu(num)\n",
    "print(res[0])"
   ]
  },
  {
   "cell_type": "markdown",
   "metadata": {},
   "source": [
    "# Librería"
   ]
  },
  {
   "cell_type": "code",
   "execution_count": 5,
   "metadata": {},
   "outputs": [
    {
     "data": {
      "image/png": "[encoded data removed]",
      "text/plain": [
       "<Figure size 432x288 with 1 Axes>"
      ]
     },
     "metadata": {
      "needs_background": "light"
     },
     "output_type": "display_data"
    }
   ],
   "source": [
    "import numpy as np #Librería numérica\n",
    "import matplotlib.pyplot as plt # Para crear gráficos con matplotlib\n",
    "#%matplotlib inline # Si quieres hacer estos gráficos dentro de un jupyter notebook\n",
    "from sklearn.linear_model import LinearRegression #Regresión Lineal con scikit-learn\n",
    "def f(x):  # función f(x) = 0.1*x + 1.25 + 0.2*Ruido_Gaussiano\n",
    "    np.random.seed(42) # para poder reproducirlo\n",
    "    y = 0.1*x + 1.25 + 0.2*np.random.randn(x.shape[0])\n",
    "    return y\n",
    "x = np.arange(0, 20, 0.5) # generamos valores x de 0 a 20 en intervalos de 0.5\n",
    "y = f(x) # calculamos y a partir de la función que hemos generado\n",
    "# hacemos un gráfico de los datos que hemos generado\n",
    "plt.scatter(x,y,label='data', color='blue')\n",
    "plt.grid(True)\n",
    "plt.title('Datos');"
   ]
  },
  {
   "cell_type": "code",
   "execution_count": 6,
   "metadata": {},
   "outputs": [
    {
     "name": "stdout",
     "output_type": "stream",
     "text": [
      "w = [0.09183522], b = 1.2858792525736684\n"
     ]
    }
   ],
   "source": [
    "regresion_lineal = LinearRegression() # creamos una instancia de LinearRegression\n",
    "# instruimos a la regresión lineal que aprenda de los datos (x,y)\n",
    "regresion_lineal.fit(x.reshape(-1,1), y) \n",
    "# vemos los parámetros que ha estimado la regresión lineal\n",
    "print('w = ' + str(regresion_lineal.coef_) + ', b = ' + str(regresion_lineal.intercept_))\n",
    "# resultado: w = [0.09183522], b = 1.2858792525736682"
   ]
  },
  {
   "cell_type": "code",
   "execution_count": 26,
   "metadata": {},
   "outputs": [
    {
     "data": {
      "image/png": "[encoded data removed]",
      "text/plain": [
       "<Figure size 432x288 with 1 Axes>"
      ]
     },
     "metadata": {
      "needs_background": "light"
     },
     "output_type": "display_data"
    }
   ],
   "source": [
    "fu=lambda x: regresion_lineal.coef_*x+regresion_lineal.intercept_\n",
    "li=np.arange(min(x)-5.0,max(x)+5.0,0.5)\n",
    "plt.scatter(x,y,label='data', color='blue')\n",
    "plt.plot(li,fu(li))\n",
    "plt.grid(True)\n",
    "plt.show()"
   ]
  },
  {
   "cell_type": "code",
   "execution_count": 7,
   "metadata": {},
   "outputs": [
    {
     "name": "stdout",
     "output_type": "stream",
     "text": [
      "[1.74505534]\n"
     ]
    }
   ],
   "source": [
    "# vamos a predicir y = regresion_lineal(5)\n",
    "nuevo_x = np.array([5]) \n",
    "prediccion = regresion_lineal.predict(nuevo_x.reshape(-1,1))\n",
    "print(prediccion)\n",
    "# resultado: [1.7449]"
   ]
  },
  {
   "cell_type": "code",
   "execution_count": 8,
   "metadata": {},
   "outputs": [
    {
     "name": "stdout",
     "output_type": "stream",
     "text": [
      "Error Cuadrático Medio (MSE) = 0.033185220129279\n",
      "Raíz del Error Cuadrático Medio (RMSE) = 0.18216810952875093\n"
     ]
    }
   ],
   "source": [
    "# importamos el cálculo del error cuadrático medio (MSE)\n",
    "from sklearn.metrics import mean_squared_error\n",
    "# Predecimos los valores y para los datos usados en el entrenamiento\n",
    "prediccion_entrenamiento = regresion_lineal.predict(x.reshape(-1,1))\n",
    "# Calculamos el Error Cuadrático Medio (MSE = Mean Squared Error)\n",
    "mse = mean_squared_error(y_true = y, y_pred = prediccion_entrenamiento)\n",
    "# La raíz cuadrada del MSE es el RMSE\n",
    "rmse = np.sqrt(mse)\n",
    "print('Error Cuadrático Medio (MSE) = ' + str(mse))\n",
    "print('Raíz del Error Cuadrático Medio (RMSE) = ' + str(rmse))"
   ]
  },
  {
   "cell_type": "code",
   "execution_count": 9,
   "metadata": {},
   "outputs": [
    {
     "name": "stdout",
     "output_type": "stream",
     "text": [
      "Coeficiente de Determinación R2 = 0.8943593637683116\n"
     ]
    }
   ],
   "source": [
    "# calculamos el coeficiente de determinación R2\n",
    "r2 = regresion_lineal.score(x.reshape(-1,1), y)\n",
    "print('Coeficiente de Determinación R2 = ' + str(r2))"
   ]
  }
 ],
 "metadata": {
  "kernelspec": {
   "display_name": "Python 3",
   "language": "python",
   "name": "python3"
  },
  "language_info": {
   "codemirror_mode": {
    "name": "ipython",
    "version": 3
   },
   "file_extension": ".py",
   "mimetype": "text/x-python",
   "name": "python",
   "nbconvert_exporter": "python",
   "pygments_lexer": "ipython3",
   "version": "3.8.2"
  }
 },
 "nbformat": 4,
 "nbformat_minor": 4
}
