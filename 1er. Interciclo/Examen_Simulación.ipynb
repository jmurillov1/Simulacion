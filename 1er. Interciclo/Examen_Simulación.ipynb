{
 "cells": [
  {
   "cell_type": "code",
   "execution_count": 2,
   "metadata": {},
   "outputs": [],
   "source": [
    "import urllib3\n",
    "import facebook\n",
    "import requests\n",
    "import json"
   ]
  },
  {
   "cell_type": "code",
   "execution_count": 8,
   "metadata": {},
   "outputs": [
    {
     "name": "stdout",
     "output_type": "stream",
     "text": [
      "<facebook.GraphAPI object at 0x05FBBA60>\n"
     ]
    },
    {
     "ename": "GraphAPIError",
     "evalue": "(#100) Object does not exist, cannot be loaded due to missing permission or reviewable feature, or does not support this operation. This endpoint requires the 'pages_read_engagement' permission or the 'Page Public Content Access' feature or the 'Page Public Metadata Access' feature.. Refer to https://developers.facebook.com/docs/apps/review/login-permissions#manage-pages, https://developers.facebook.com/docs/apps/review/feature#reference-PAGES_ACCESS and https://developers.facebook.com/docs/apps/review/feature#page-public-metadata-accessfor details. ",
     "output_type": "error",
     "traceback": [
      "\u001b[1;31m---------------------------------------------------------------------------\u001b[0m",
      "\u001b[1;31mGraphAPIError\u001b[0m                             Traceback (most recent call last)",
      "\u001b[1;32m<ipython-input-8-024d5b07aa76>\u001b[0m in \u001b[0;36m<module>\u001b[1;34m\u001b[0m\n\u001b[0;32m      3\u001b[0m \u001b[0mprint\u001b[0m\u001b[1;33m(\u001b[0m\u001b[0mgraph\u001b[0m\u001b[1;33m)\u001b[0m\u001b[1;33m\u001b[0m\u001b[1;33m\u001b[0m\u001b[0m\n\u001b[0;32m      4\u001b[0m \u001b[0muser_id\u001b[0m \u001b[1;33m=\u001b[0m \u001b[1;34m'LassoGuillermo'\u001b[0m \u001b[1;31m# the id of the Facebook user\u001b[0m\u001b[1;33m\u001b[0m\u001b[1;33m\u001b[0m\u001b[0m\n\u001b[1;32m----> 5\u001b[1;33m \u001b[0mname\u001b[0m \u001b[1;33m=\u001b[0m \u001b[0mgraph\u001b[0m\u001b[1;33m.\u001b[0m\u001b[0mget_object\u001b[0m\u001b[1;33m(\u001b[0m\u001b[0muser_id\u001b[0m\u001b[1;33m)\u001b[0m\u001b[1;33m[\u001b[0m\u001b[1;34m\"name\"\u001b[0m\u001b[1;33m]\u001b[0m\u001b[1;33m\u001b[0m\u001b[1;33m\u001b[0m\u001b[0m\n\u001b[0m\u001b[0;32m      6\u001b[0m \u001b[0mprint\u001b[0m \u001b[1;33m(\u001b[0m\u001b[0mname\u001b[0m\u001b[1;33m)\u001b[0m\u001b[1;33m\u001b[0m\u001b[1;33m\u001b[0m\u001b[0m\n",
      "\u001b[1;32mc:\\users\\gatit\\appdata\\local\\programs\\python\\python38-32\\lib\\site-packages\\facebook\\__init__.py\u001b[0m in \u001b[0;36mget_object\u001b[1;34m(self, id, **args)\u001b[0m\n\u001b[0;32m    124\u001b[0m     \u001b[1;32mdef\u001b[0m \u001b[0mget_object\u001b[0m\u001b[1;33m(\u001b[0m\u001b[0mself\u001b[0m\u001b[1;33m,\u001b[0m \u001b[0mid\u001b[0m\u001b[1;33m,\u001b[0m \u001b[1;33m**\u001b[0m\u001b[0margs\u001b[0m\u001b[1;33m)\u001b[0m\u001b[1;33m:\u001b[0m\u001b[1;33m\u001b[0m\u001b[1;33m\u001b[0m\u001b[0m\n\u001b[0;32m    125\u001b[0m         \u001b[1;34m\"\"\"Fetches the given object from the graph.\"\"\"\u001b[0m\u001b[1;33m\u001b[0m\u001b[1;33m\u001b[0m\u001b[0m\n\u001b[1;32m--> 126\u001b[1;33m         \u001b[1;32mreturn\u001b[0m \u001b[0mself\u001b[0m\u001b[1;33m.\u001b[0m\u001b[0mrequest\u001b[0m\u001b[1;33m(\u001b[0m\u001b[1;34m\"{0}/{1}\"\u001b[0m\u001b[1;33m.\u001b[0m\u001b[0mformat\u001b[0m\u001b[1;33m(\u001b[0m\u001b[0mself\u001b[0m\u001b[1;33m.\u001b[0m\u001b[0mversion\u001b[0m\u001b[1;33m,\u001b[0m \u001b[0mid\u001b[0m\u001b[1;33m)\u001b[0m\u001b[1;33m,\u001b[0m \u001b[0margs\u001b[0m\u001b[1;33m)\u001b[0m\u001b[1;33m\u001b[0m\u001b[1;33m\u001b[0m\u001b[0m\n\u001b[0m\u001b[0;32m    127\u001b[0m \u001b[1;33m\u001b[0m\u001b[0m\n\u001b[0;32m    128\u001b[0m     \u001b[1;32mdef\u001b[0m \u001b[0mget_objects\u001b[0m\u001b[1;33m(\u001b[0m\u001b[0mself\u001b[0m\u001b[1;33m,\u001b[0m \u001b[0mids\u001b[0m\u001b[1;33m,\u001b[0m \u001b[1;33m**\u001b[0m\u001b[0margs\u001b[0m\u001b[1;33m)\u001b[0m\u001b[1;33m:\u001b[0m\u001b[1;33m\u001b[0m\u001b[1;33m\u001b[0m\u001b[0m\n",
      "\u001b[1;32mc:\\users\\gatit\\appdata\\local\\programs\\python\\python38-32\\lib\\site-packages\\facebook\\__init__.py\u001b[0m in \u001b[0;36mrequest\u001b[1;34m(self, path, args, post_args, files, method)\u001b[0m\n\u001b[0;32m    311\u001b[0m \u001b[1;33m\u001b[0m\u001b[0m\n\u001b[0;32m    312\u001b[0m         \u001b[1;32mif\u001b[0m \u001b[0mresult\u001b[0m \u001b[1;32mand\u001b[0m \u001b[0misinstance\u001b[0m\u001b[1;33m(\u001b[0m\u001b[0mresult\u001b[0m\u001b[1;33m,\u001b[0m \u001b[0mdict\u001b[0m\u001b[1;33m)\u001b[0m \u001b[1;32mand\u001b[0m \u001b[0mresult\u001b[0m\u001b[1;33m.\u001b[0m\u001b[0mget\u001b[0m\u001b[1;33m(\u001b[0m\u001b[1;34m\"error\"\u001b[0m\u001b[1;33m)\u001b[0m\u001b[1;33m:\u001b[0m\u001b[1;33m\u001b[0m\u001b[1;33m\u001b[0m\u001b[0m\n\u001b[1;32m--> 313\u001b[1;33m             \u001b[1;32mraise\u001b[0m \u001b[0mGraphAPIError\u001b[0m\u001b[1;33m(\u001b[0m\u001b[0mresult\u001b[0m\u001b[1;33m)\u001b[0m\u001b[1;33m\u001b[0m\u001b[1;33m\u001b[0m\u001b[0m\n\u001b[0m\u001b[0;32m    314\u001b[0m         \u001b[1;32mreturn\u001b[0m \u001b[0mresult\u001b[0m\u001b[1;33m\u001b[0m\u001b[1;33m\u001b[0m\u001b[0m\n\u001b[0;32m    315\u001b[0m \u001b[1;33m\u001b[0m\u001b[0m\n",
      "\u001b[1;31mGraphAPIError\u001b[0m: (#100) Object does not exist, cannot be loaded due to missing permission or reviewable feature, or does not support this operation. This endpoint requires the 'pages_read_engagement' permission or the 'Page Public Content Access' feature or the 'Page Public Metadata Access' feature.. Refer to https://developers.facebook.com/docs/apps/review/login-permissions#manage-pages, https://developers.facebook.com/docs/apps/review/feature#reference-PAGES_ACCESS and https://developers.facebook.com/docs/apps/review/feature#page-public-metadata-accessfor details. "
     ]
    }
   ],
   "source": [
    "token= '239809967500027|yHi7yKAt7q9kielBWR3NM5lHepU'\n",
    "graph = facebook.GraphAPI(access_token=token)\n",
    "print(graph)\n",
    "user_id = 'LassoGuillermo' # the id of the Facebook user\n",
    "name = graph.get_object(user_id)[\"name\"]\n",
    "print (name)"
   ]
  },
  {
   "cell_type": "code",
   "execution_count": 9,
   "metadata": {},
   "outputs": [
    {
     "name": "stderr",
     "output_type": "stream",
     "text": [
      "UsageError: Line magic function `%` not found.\n"
     ]
    }
   ],
   "source": [
    "import simpy\n",
    "import random\n",
    "import matplotlib.pyplot as pp\n",
    "\n",
    "#Genera numero aleatorio del 1 al 3 de las listas.\n",
    "import random\n",
    "\n",
    "\n",
    "% matplotlib inline\n",
    "\n",
    "# Maximo de votantes que puede recibir el recinto electora.\n",
    "MAX_VOTANTES = 1\n",
    "# Total de mesas electorales.\n",
    "NUM_MESA_ELECTORAL = 1\n",
    "# Tiempo que tarda una personas en realizar su sufragio(minutos)\n",
    "TIEMPO_VOTACION = 5\n",
    "# Intervalo de tiempo en que llegan los votantes (minutos)\n",
    "INTERVALO_LLEGADA = 3\n",
    "# Tiempo de simulación\n",
    "TIEMPO_SIMULACION = 35\n",
    "\n",
    "# Creamos un diccionario para almacenar las horas en que se sufragan los votantes..\n",
    "votos = {}\n",
    "\n",
    "\n",
    "class Recinto_Electoral(object):\n",
    "\n",
    "    def __init__(self, environment, num_mesa_electoral, tiempo_votacion):\n",
    "        # Guardamos como variable el entorno de ejecucion\n",
    "        self.env = environment\n",
    "        # Creamos el recurso que representa las mesa electoral\n",
    "        self.mesa = simpy.Resource(environment, num_mesa_electoral)\n",
    "        # Variable para el tiempo de atencion.\n",
    "        self.tiempo_votacion = tiempo_votacion\n",
    "\n",
    "    def atender_votante(self, votante):\n",
    "        # Este metodo representa el proceso de sufragio de un votante.\n",
    "        # Ingresa la persona y sufraga.\n",
    "\n",
    "        yield self.env.timeout(random.randint(TIEMPO_VOTACION - 5, TIEMPO_VOTACION + 5))\n",
    "\n",
    "        print('Porcentaje  {%d%%} voto electoral => %s ' % (random.randint(30, 90), votante))\n",
    "\n",
    "\n",
    "def llegada_votante(env, nombre, Recinto_Electoral):\n",
    "    # Usamos el reloj de la simulacion (env.now()) para indicar a la\n",
    "    # hora que llega el votante con el nombre pasado como parametro\n",
    "    print('Llega votante: [%s]' % (nombre))\n",
    "\n",
    "    # Especificamos que vamos a usar un recurso (Resource) que representa\n",
    "    with Recinto_Electoral.mesa.request() as maquina:\n",
    "        # Ocupamos la mesa electoral.\n",
    "        yield maquina\n",
    "        # Indicamos que votante entra a la Recinto_Electoral\n",
    "        print('Entra [%s] a sufragar:' % (nombre))\n",
    "        # Procesamos la operacion de sufragio\n",
    "        yield env.process(Recinto_Electoral.atender_votante(nombre))\n",
    "        # Una vez que termina la llamada con 'yield', se indica que se ha atendido al votante.\n",
    "        print('<-**-->La persona [%s] terminó de sufragar'%(nombre))\n",
    "        print('<-**-->La persona [%s] recibe su certificado de votacion'%(nombre))\n",
    "        print('<-**-->La persona  [%s] sale del Recinto Electoral.'%(nombre))\n",
    "        votos[nombre] = random.randint(1, 3)#Me generar un muero randomico correspondiente al voto a las diferentes listas.\n",
    "\n",
    "\n",
    "def ejecutar_simulacion(env, num_mesa_electoral, tiempo_votacion, intervalo):\n",
    "    recinto_Electoral = Recinto_Electoral(env, num_mesa_electoral, tiempo_votacion)\n",
    "    # Creamos 5 llegadas de votantes iniciales\n",
    "    for i in range(5):\n",
    "        env.process(llegada_votante(env, 'votante-%d' % (i + 1), recinto_Electoral))\n",
    "\n",
    "    # Ejecutamos la simulacion\n",
    "    while True:\n",
    "        yield env.timeout(random.randint(intervalo - 3, intervalo + 3))\n",
    "        i += 1\n",
    "        # Mientras se atiende a los votantes generamos mas votantes\n",
    "        env.process(llegada_votante(env, 'votante-%d' % (i + 1), recinto_Electoral))\n",
    "\n",
    "\n",
    "print('Recinto_Electoral UPS')\n",
    "\n",
    "# Creamos el entorno de simulacion\n",
    "env = simpy.Environment()\n",
    "env.process(ejecutar_simulacion(env, NUM_MESA_ELECTORAL, TIEMPO_VOTACION, INTERVALO_LLEGADA))\n",
    "\n",
    "# Ejecutamos el proceso durante el tiempo de simulacion\n",
    "env.run(until=TIEMPO_SIMULACION)\n",
    "\n",
    "print(\"Diccionario  de votos:\")\n",
    "print(votos)"
   ]
  }
 ],
 "metadata": {
  "kernelspec": {
   "display_name": "Python 3",
   "language": "python",
   "name": "python3"
  },
  "language_info": {
   "codemirror_mode": {
    "name": "ipython",
    "version": 3
   },
   "file_extension": ".py",
   "mimetype": "text/x-python",
   "name": "python",
   "nbconvert_exporter": "python",
   "pygments_lexer": "ipython3",
   "version": "3.8.2"
  }
 },
 "nbformat": 4,
 "nbformat_minor": 4
}
